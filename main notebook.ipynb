{
 "cells": [
  {
   "cell_type": "code",
   "execution_count": 1,
   "metadata": {},
   "outputs": [],
   "source": [
    "from engine import summary_prepsearch\n"
   ]
  },
  {
   "cell_type": "code",
   "execution_count": 2,
   "metadata": {},
   "outputs": [
    {
     "name": "stdout",
     "output_type": "stream",
     "text": [
      "Encoded text database imported successfully\n",
      "FAISS index was built successfully\n",
      "Number of articles: 142057\n"
     ]
    }
   ],
   "source": [
    "se = summary_prepsearch()"
   ]
  },
  {
   "cell_type": "code",
   "execution_count": 3,
   "metadata": {},
   "outputs": [],
   "source": [
    "to_display = [\"id\",\"title\",\"content\"]"
   ]
  },
  {
   "cell_type": "code",
   "execution_count": 4,
   "metadata": {},
   "outputs": [],
   "source": [
    "query = \"internet browsing\""
   ]
  },
  {
   "cell_type": "code",
   "execution_count": 5,
   "metadata": {},
   "outputs": [
    {
     "name": "stdout",
     "output_type": "stream",
     "text": [
      "Time taken for search is 0.09746336936950684\n",
      "rank\t: 1\n",
      "metric\t: 0.47506288\n",
      "id\t: 100427\n",
      "title\t:  How To Check All The Apps You’ve Authorized With Your Google, Facebook, And Twitter Accounts\n",
      "content\t: ’ It’s *very* simple. Go to twitter.   and review all of the apps you’ve authorized.’ ’ Then, click ...\n",
      "\n",
      "rank\t: 2\n",
      "metric\t: 0.46259207\n",
      "id\t: 39292\n",
      "title\t: Michelle Obama Passport Scan Appears Online in Apparent Hack - Breitbart\n",
      "content\t: WASHINGTON (AP)  —   The White House said Thursday it was looking into a cyber breach after what app...\n",
      "\n",
      "rank\t: 3\n",
      "metric\t: 0.44020566\n",
      "id\t: 23809\n",
      "title\t: Liberal, Moderate or Conservative? See How Facebook Labels You - The New York Times\n",
      "content\t: You may think you are discreet about your political views. But Facebook, the world’s largest social ...\n",
      "\n",
      "rank\t: 4\n",
      "metric\t: 0.42339307\n",
      "id\t: 70038\n",
      "title\t: How to see everything Google knows about you\n",
      "content\t: ”By using Google’s products, you’ve agreed to sharing a ton of information with advertisers.  and in...\n",
      "\n",
      "rank\t: 5\n",
      "metric\t: 0.41318545\n",
      "id\t: 214569\n",
      "title\t: With the Internet, collectors can find anything. Where’s the fun in that?\n",
      "content\t:      In 1978, Rob Niederman received an        studio camera. It was wooden and chunky, a work of ar...\n",
      "\n",
      "\n"
     ]
    }
   ],
   "source": [
    "se.searchquery(query,to_display=to_display, export_txt = True)"
   ]
  }
 ],
 "metadata": {
  "kernelspec": {
   "display_name": "Python 3",
   "language": "python",
   "name": "python3"
  },
  "language_info": {
   "codemirror_mode": {
    "name": "ipython",
    "version": 3
   },
   "file_extension": ".py",
   "mimetype": "text/x-python",
   "name": "python",
   "nbconvert_exporter": "python",
   "pygments_lexer": "ipython3",
   "version": "3.7.9"
  }
 },
 "nbformat": 4,
 "nbformat_minor": 4
}
